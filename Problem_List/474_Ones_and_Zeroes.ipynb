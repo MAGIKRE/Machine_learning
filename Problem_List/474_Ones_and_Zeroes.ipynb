{
 "cells": [
  {
   "cell_type": "code",
   "execution_count": null,
   "metadata": {},
   "outputs": [],
   "source": [
    "class Solution:\n",
    "    def findMaxForm(self, strs: List[str], m: int, n: int) -> int:\n",
    "       \n",
    "        dp = [[0] * (n + 1) for _ in range(m + 1)]\n",
    "           \n",
    "        for s in strs:\n",
    "            \n",
    "            zeros = s.count('0')\n",
    "            ones = s.count('1')\n",
    "    \n",
    "            for i in range(m, zeros - 1, -1):\n",
    "                for j in range(n, ones - 1, -1):\n",
    "                    \n",
    "                    dp[i][j] = max(dp[i][j], dp[i - zeros][j - ones] + 1)\n",
    "        \n",
    "        \n",
    "        return dp[m][n]\n"
   ]
  }
 ],
 "metadata": {
  "language_info": {
   "name": "python"
  }
 },
 "nbformat": 4,
 "nbformat_minor": 2
}
