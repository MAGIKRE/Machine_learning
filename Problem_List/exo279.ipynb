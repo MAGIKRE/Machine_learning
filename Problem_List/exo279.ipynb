{
 "cells": [
  {
   "cell_type": "code",
   "execution_count": null,
   "metadata": {},
   "outputs": [],
   "source": [
    "from itertools import product\n",
    "class Solution:\n",
    "    def numSquares(self, n):\n",
    "        sq = [-1]\n",
    "        i = 1\n",
    "        while sq[-1] <= n:\n",
    "            sq.append(i * i)\n",
    "            i += 1\n",
    "        sq = sq[1:]\n",
    "        total = 0\n",
    "        i = 1\n",
    "        while True:\n",
    "            for ele in product(sq,repeat = i):\n",
    "\n",
    "                if sum(ele) == n:\n",
    "                    return len(ele)\n",
    "            i += 1\n",
    "        \n",
    "\n",
    "        return 0\n",
    "        "
   ]
  }
 ],
 "metadata": {
  "language_info": {
   "name": "python"
  }
 },
 "nbformat": 4,
 "nbformat_minor": 2
}
