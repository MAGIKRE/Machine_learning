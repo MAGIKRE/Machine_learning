{
 "cells": [
  {
   "cell_type": "code",
   "execution_count": null,
   "metadata": {},
   "outputs": [],
   "source": [
    "class Solution:\n",
    "    def maxProfit(self, prices: List[int]) -> int:\n",
    "        max_profit = 0 \n",
    "        \n",
    "        left = 0\n",
    "        \n",
    "        for right in range(left, len(prices)):\n",
    "            if prices[right] < prices[left]:\n",
    "                left = right\n",
    "                \n",
    "            else:\n",
    "                \n",
    "                max_profit = max(max_profit, prices[right] - prices[left])\n",
    "                \n",
    "                \n",
    "                \n",
    "        return max_profit "
   ]
  }
 ],
 "metadata": {
  "language_info": {
   "name": "python"
  }
 },
 "nbformat": 4,
 "nbformat_minor": 2
}
