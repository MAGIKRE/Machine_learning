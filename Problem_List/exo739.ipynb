{
 "cells": [
  {
   "cell_type": "code",
   "execution_count": null,
   "metadata": {},
   "outputs": [],
   "source": [
    "class Solution:\n",
    "    def dailyTemperatures(self, temperatures: List[int]) -> List[int]:\n",
    "        n = len(temperatures)\n",
    "        hottest = 0\n",
    "        answer = [0] * n\n",
    "        \n",
    "        for curr_day in range(n - 1, -1, -1):\n",
    "            current_temp = temperatures[curr_day]\n",
    "            if current_temp >= hottest:\n",
    "                hottest = current_temp\n",
    "                continue\n",
    "            \n",
    "            days = 1\n",
    "            while temperatures[curr_day + days] <= current_temp:\n",
    "                days += answer[curr_day + days]\n",
    "            answer[curr_day] = days\n",
    "\n",
    "        return answer"
   ]
  }
 ],
 "metadata": {
  "language_info": {
   "name": "python"
  }
 },
 "nbformat": 4,
 "nbformat_minor": 2
}
