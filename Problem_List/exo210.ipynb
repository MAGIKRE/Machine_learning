{
 "cells": [
  {
   "cell_type": "code",
   "execution_count": null,
   "metadata": {},
   "outputs": [],
   "source": [
    "from collections import defaultdict, deque\n",
    "\n",
    "class Solution:\n",
    "    def findOrder(self, numCourses: int, prerequisites: List[List[int]]) -> List[int]:\n",
    "    \n",
    "        graph = defaultdict(list)\n",
    "        for course, prereq in prerequisites:\n",
    "            graph[prereq].append(course)\n",
    "        \n",
    "        \n",
    "        in_degree = [0] * numCourses\n",
    "        for course, prereq in prerequisites:\n",
    "            in_degree[course] += 1\n",
    "        \n",
    "        \n",
    "        queue = deque()\n",
    "        for i in range(numCourses):\n",
    "            if in_degree[i] == 0:\n",
    "                queue.append(i)\n",
    "        \n",
    "        result = []\n",
    "        while queue:\n",
    "            node = queue.popleft()\n",
    "            result.append(node)\n",
    "            for neighbor in graph[node]:\n",
    "                in_degree[neighbor] -= 1\n",
    "                if in_degree[neighbor] == 0:\n",
    "                    queue.append(neighbor)\n",
    "        \n",
    "        \n",
    "        if len(result) < numCourses:\n",
    "            return []\n",
    "        \n",
    "        return result"
   ]
  }
 ],
 "metadata": {
  "language_info": {
   "name": "python"
  }
 },
 "nbformat": 4,
 "nbformat_minor": 2
}
