{
 "cells": [
  {
   "cell_type": "code",
   "execution_count": null,
   "metadata": {},
   "outputs": [],
   "source": [
    "class Solution:\n",
    "    def evalRPN(self, tokens: List[str]) -> int:\n",
    "        def fun(st,n1,n2):\n",
    "            s1,s2=1,1\n",
    "            if n1<0:\n",
    "                s1=-1\n",
    "            if n2<0:\n",
    "                s2=-1\n",
    "            if st=='+':\n",
    "                return n1+n2\n",
    "            elif st=='-':\n",
    "                return n1-n2\n",
    "            elif st=='*':\n",
    "                return n1*n2\n",
    "            elif st=='/':\n",
    "                \n",
    "                return floor(abs(n1)/abs(n2))*(s1*s2)\n",
    "\n",
    "\n",
    "        digits=[]\n",
    "        for i in tokens:\n",
    "            if i.isdigit() or (len(i)>1):\n",
    "                digits.append(int(i))\n",
    "            else:\n",
    "                n1=digits.pop()\n",
    "                n2=digits.pop()\n",
    "                digits.append(fun(i,n2,n1))\n",
    "\n",
    "        return digits[0]"
   ]
  }
 ],
 "metadata": {
  "language_info": {
   "name": "python"
  }
 },
 "nbformat": 4,
 "nbformat_minor": 2
}
