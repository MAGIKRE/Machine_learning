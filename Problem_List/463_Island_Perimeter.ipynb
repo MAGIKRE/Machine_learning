{
 "cells": [
  {
   "cell_type": "code",
   "execution_count": null,
   "metadata": {},
   "outputs": [],
   "source": [
    "class Solution(object):\n",
    "    def dfs(self, grid, i, j, rows, cols):\n",
    "        \n",
    "        if i < 0 or i >= rows or j < 0 or j >= cols or grid[i][j] == 0:\n",
    "            return 1\n",
    "       \n",
    "        if grid[i][j] == -1:\n",
    "            return 0\n",
    "\n",
    "        \n",
    "        grid[i][j] = -1\n",
    "\n",
    "        perimetre = self.dfs(grid, i - 1, j, rows, cols)  # Haut\n",
    "        perimetre += self.dfs(grid, i + 1, j, rows, cols) # Bas\n",
    "        perimetre += self.dfs(grid, i, j - 1, rows, cols) # Gauche\n",
    "        perimetre += self.dfs(grid, i, j + 1, rows, cols) # Droite\n",
    "\n",
    "        return perimetre\n",
    "\n",
    "    def islandPerimeter(self, grid):\n",
    "        \"\"\"\n",
    "        :type grid: List[List[int]]\n",
    "        :rtype: int\n",
    "        \"\"\"\n",
    "        rows = len(grid)\n",
    "        cols = len(grid[0])\n",
    "\n",
    "        for i in range(rows):\n",
    "            for j in range(cols):\n",
    "                if grid[i][j] == 1: \n",
    "                    return self.dfs(grid, i, j, rows, cols)\n",
    "\n",
    "        return 0\n"
   ]
  }
 ],
 "metadata": {
  "language_info": {
   "name": "python"
  }
 },
 "nbformat": 4,
 "nbformat_minor": 2
}
