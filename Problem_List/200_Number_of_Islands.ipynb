{
 "cells": [
  {
   "cell_type": "code",
   "execution_count": null,
   "metadata": {},
   "outputs": [],
   "source": [
    "class Solution:\n",
    "    def numIslands(self, grid: List[List[str]]) -> int:\n",
    "        \n",
    "        if not grid: return 0\n",
    "        \n",
    "        def DO_DFS(grid, row, col):\n",
    "\t\t\t\n",
    "            if row >= 0 and col >= 0 and row < len(grid) and col < len(grid[0]) and grid[row][col] == '1':\n",
    "                grid[row][col] = '0'\n",
    "                # performing DFS on all 4 direction \n",
    "                DO_DFS(grid, row+1, col)\n",
    "                DO_DFS(grid, row-1, col)\n",
    "                DO_DFS(grid, row, col+1)\n",
    "                DO_DFS(grid, row, col-1)\n",
    "        \n",
    "        isLand = 0\n",
    "        \n",
    "        rows, cols = len(grid), len(grid[0])\n",
    "        \n",
    "        for row in range(rows):\n",
    "            for col in range(cols):\n",
    "                if grid[row][col] == '1':\n",
    "                    DO_DFS(grid, row, col)\n",
    "                    isLand += 1\n",
    "        return isLand"
   ]
  }
 ],
 "metadata": {
  "language_info": {
   "name": "python"
  }
 },
 "nbformat": 4,
 "nbformat_minor": 2
}
