{
 "cells": [
  {
   "cell_type": "code",
   "execution_count": null,
   "metadata": {},
   "outputs": [],
   "source": [
    "class Solution:\n",
    "    def isValid(self, s: str) -> bool:\n",
    "        temp=[]\n",
    "        for i in s:\n",
    "            if i=='(' or i=='{' or i=='[':\n",
    "                temp.append(i)\n",
    "            elif i==')' and len(temp)!=0:\n",
    "                if temp[-1]=='(':\n",
    "                    temp.pop()\n",
    "                else:\n",
    "                    return False\n",
    "            elif i=='}' and len(temp)!=0:\n",
    "                if temp[-1]=='{':\n",
    "                    temp.pop()\n",
    "                else:\n",
    "                    return False\n",
    "            elif i==']' and len(temp)!=0:\n",
    "                if temp[-1]=='[':\n",
    "                    temp.pop()\n",
    "                else:\n",
    "                    return False\n",
    "            else:\n",
    "                return False\n",
    "        if len(temp)==0:\n",
    "            return True\n",
    "        return False"
   ]
  }
 ],
 "metadata": {
  "language_info": {
   "name": "python"
  }
 },
 "nbformat": 4,
 "nbformat_minor": 2
}
