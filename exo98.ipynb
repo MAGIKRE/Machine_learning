{
 "cells": [
  {
   "cell_type": "code",
   "execution_count": null,
   "metadata": {},
   "outputs": [],
   "source": [
    "\n",
    "class Solution:\n",
    "    def isValidBST(self, root: Optional[TreeNode]) -> bool:\n",
    "        \n",
    "        def solve(root, min_val, max_val):\n",
    "            if root is None:\n",
    "                return True\n",
    "            \n",
    "            if root.val <= min_val or root.val >= max_val:\n",
    "                return False\n",
    "\n",
    "            left = solve(root.left, min_val, root.val)\n",
    "            right = solve(root.right, root.val, max_val)\n",
    "            return left and right \n",
    "\n",
    "        return solve(root, float('-inf'), float('inf'))"
   ]
  }
 ],
 "metadata": {
  "language_info": {
   "name": "python"
  }
 },
 "nbformat": 4,
 "nbformat_minor": 2
}
